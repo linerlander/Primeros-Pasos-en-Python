{
 "cells": [
  {
   "cell_type": "markdown",
   "metadata": {},
   "source": [
    "# <p style=\"background-color:#2e2b5f;font-family:Creepster,cursive;color:#ffffff;font-size:120%;text-align:center;border-radius:10px 10px;\">🚀 Mis primeros pasos en Python para Data Science 📊🐍</p>\n",
    "---"
   ]
  },
  {
   "cell_type": "markdown",
   "metadata": {},
   "source": [
    "[![Banner-Primeros-Pasos-Python.png](https://i.postimg.cc/HLBTDvtc/Banner-Primeros-Pasos-Python.png)](https://postimg.cc/rd0B5J3M)"
   ]
  },
  {
   "cell_type": "markdown",
   "metadata": {},
   "source": [
    "<div class=\"alert alert-block alert-info\" style=\"margin-top: 20px\">\n",
    "\n",
    "<font size = 3>\n",
    "    \n",
    "1. <a href=\"#sec_1\">Variables y Tipos de Datos</a>  \n",
    "2. <a href=\"#sec_2\">Operadores</a>  \n",
    "\n",
    " \n",
    "</font>\n",
    "</div>"
   ]
  },
  {
   "cell_type": "markdown",
   "metadata": {},
   "source": [
    "<a id='sec_1'></a>\n",
    "## `1. Comentarios, Variables  y Tipos de Datos`\n",
    "\n",
    "En esta sección, aprenderás a trabajar con las variables y los tipos de datos básicos en Python.\n",
    "\n",
    "1. **Comentar tu código:** Los comentarios ayudan a que tu código sea más comprensible para ti y para otros, explicando la función de cada parte.\n",
    "\n",
    "2. **Definir y asignar variables:** Entender cómo crear y asignar variables en Python para almacenar información.\n",
    "\n",
    "3. **Identificar tipos de datos:** Familiarizarte con los tipos de datos más comunes en Python: `int` (números enteros), `float` (números decimales), `str` (cadenas de texto), `bool` (valores booleanos), entre otros."
   ]
  },
  {
   "cell_type": "markdown",
   "metadata": {},
   "source": [
    "**1.1. Comentar tu código**"
   ]
  },
  {
   "cell_type": "code",
   "execution_count": 1,
   "metadata": {},
   "outputs": [],
   "source": [
    "# Esto es un comentario de una sola línea"
   ]
  },
  {
   "cell_type": "code",
   "execution_count": null,
   "metadata": {},
   "outputs": [],
   "source": [
    "edad = 25  # Comentario al final de una línea de código"
   ]
  },
  {
   "cell_type": "code",
   "execution_count": null,
   "metadata": {},
   "outputs": [],
   "source": [
    "\"\"\"\n",
    "Comentario de varias líneas,\n",
    "aunque suele utilizarse para documentar funciones o clases.\n",
    "\"\"\""
   ]
  },
  {
   "cell_type": "code",
   "execution_count": 3,
   "metadata": {},
   "outputs": [],
   "source": [
    "def suma(a, b):\n",
    "    \"\"\"\n",
    "    Calcula la suma de dos números.\n",
    "\n",
    "    Parámetros:\n",
    "    a (int o float): El primer número.\n",
    "    b (int o float): El segundo número.\n",
    "\n",
    "    Retorna:\n",
    "    int o float: La suma de a y b.\n",
    "    \"\"\"\n",
    "    return a + b"
   ]
  },
  {
   "cell_type": "markdown",
   "metadata": {},
   "source": [
    "**1.1. Definir y asignar variables**"
   ]
  },
  {
   "cell_type": "code",
   "execution_count": null,
   "metadata": {},
   "outputs": [],
   "source": []
  },
  {
   "cell_type": "code",
   "execution_count": null,
   "metadata": {},
   "outputs": [],
   "source": []
  },
  {
   "cell_type": "markdown",
   "metadata": {},
   "source": [
    "**1.2. Identificar tipos de datos**"
   ]
  },
  {
   "cell_type": "code",
   "execution_count": null,
   "metadata": {},
   "outputs": [],
   "source": []
  },
  {
   "cell_type": "code",
   "execution_count": null,
   "metadata": {},
   "outputs": [],
   "source": []
  },
  {
   "cell_type": "code",
   "execution_count": null,
   "metadata": {},
   "outputs": [],
   "source": []
  },
  {
   "cell_type": "code",
   "execution_count": null,
   "metadata": {},
   "outputs": [],
   "source": []
  },
  {
   "cell_type": "code",
   "execution_count": null,
   "metadata": {},
   "outputs": [],
   "source": []
  },
  {
   "cell_type": "code",
   "execution_count": null,
   "metadata": {},
   "outputs": [],
   "source": []
  },
  {
   "cell_type": "code",
   "execution_count": null,
   "metadata": {},
   "outputs": [],
   "source": []
  },
  {
   "cell_type": "code",
   "execution_count": null,
   "metadata": {},
   "outputs": [],
   "source": []
  }
 ],
 "metadata": {
  "kernelspec": {
   "display_name": "Python 3",
   "language": "python",
   "name": "python3"
  },
  "language_info": {
   "codemirror_mode": {
    "name": "ipython",
    "version": 3
   },
   "file_extension": ".py",
   "mimetype": "text/x-python",
   "name": "python",
   "nbconvert_exporter": "python",
   "pygments_lexer": "ipython3",
   "version": "3.11.9"
  }
 },
 "nbformat": 4,
 "nbformat_minor": 2
}
